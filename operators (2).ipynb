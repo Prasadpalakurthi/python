{
 "cells": [
  {
   "cell_type": "code",
   "execution_count": 28,
   "id": "53e8be21-1fad-4ae7-9c8b-07eebf4ade52",
   "metadata": {},
   "outputs": [
    {
     "name": "stdout",
     "output_type": "stream",
     "text": [
      "1.0\n",
      "23\n",
      "66\n",
      "11\n",
      "1.2\n",
      "100.0\n",
      "40\n",
      "-6\n",
      "64\n",
      "2.0\n",
      "2.0\n",
      "6.0\n",
      "2\n",
      "0\n",
      "0\n",
      "2\n",
      "2\n",
      "6\n",
      "16\n",
      "1296\n",
      "144\n"
     ]
    }
   ],
   "source": [
    "#Assignment Operator\n",
    "#Addition operator\n",
    "a=44\n",
    "b=22\n",
    "a+=b\n",
    "\n",
    "x=33\n",
    "y=-10\n",
    "x +=y\n",
    "\n",
    "i=0.65\n",
    "j=0.35\n",
    "i +=j\n",
    "\n",
    "print(i)\n",
    "print(x)\n",
    "print(a)\n",
    "\n",
    "#subtraction Assignment\n",
    "i=33\n",
    "j=22\n",
    "i -=j\n",
    "print(i)\n",
    "\n",
    "k=2\n",
    "j=0.80\n",
    "k -=j\n",
    "print(k)\n",
    "\n",
    "x=98.20\n",
    "y=-1.80\n",
    "x -=y\n",
    "print(x)\n",
    "\n",
    "#Multiplication Assignment\n",
    "a=4+6\n",
    "b=4\n",
    "a*=b\n",
    "print(a)\n",
    "\n",
    "x=-3\n",
    "y=+2\n",
    "x*=y\n",
    "print(x)\n",
    "\n",
    "i=16-8\n",
    "j=8\n",
    "i*=j\n",
    "print(i)\n",
    "\n",
    "#Division Assignment\n",
    "i=16\n",
    "j=8\n",
    "i/=j\n",
    "print(i)\n",
    "\n",
    "x=6+6\n",
    "y=2*3\n",
    "x/=y\n",
    "print(x)\n",
    "\n",
    "a=16-4\n",
    "b=2\n",
    "a/=b\n",
    "print(a)\n",
    "\n",
    "#Modulus\n",
    "i=22\n",
    "j=4\n",
    "i%=j\n",
    "print(i)\n",
    "\n",
    "x=2+2\n",
    "y=2*1\n",
    "x%=y\n",
    "print(x)\n",
    "\n",
    "a=8-4\n",
    "b=2\n",
    "a%=b\n",
    "print(a)\n",
    "\n",
    "#floor Assignment\n",
    "\n",
    "i=16\n",
    "j=8\n",
    "i//=j\n",
    "print(i)\n",
    "\n",
    "x=6+6\n",
    "y=2*3\n",
    "x//=y\n",
    "print(x)\n",
    "\n",
    "a=16-4\n",
    "b=2\n",
    "a//=b\n",
    "print(a)\n",
    "\n",
    "#exponential\n",
    "a=4\n",
    "b=2\n",
    "a**=b\n",
    "print(a)\n",
    "\n",
    "x=6\n",
    "y=2*2\n",
    "x**=y\n",
    "print(x)\n",
    "\n",
    "i=16-4\n",
    "j=2\n",
    "i**=j\n",
    "print(i)\n",
    "\n"
   ]
  },
  {
   "cell_type": "code",
   "execution_count": 38,
   "id": "4d037bc4-8550-40b1-9fd0-8ad395554b17",
   "metadata": {},
   "outputs": [
    {
     "name": "stdout",
     "output_type": "stream",
     "text": [
      "False\n",
      "True\n",
      "True\n"
     ]
    },
    {
     "data": {
      "text/plain": [
       "True"
      ]
     },
     "execution_count": 38,
     "metadata": {},
     "output_type": "execute_result"
    }
   ],
   "source": [
    "#comparison operators\n",
    "#real equal(exact)\n",
    "i=22\n",
    "j=33\n",
    "k=i==j\n",
    "print(k)\n",
    "\n",
    "a=12\n",
    "b=12\n",
    "c=a==b\n",
    "print(c)\n",
    "\n",
    "x=6*2\n",
    "y=2*6\n",
    "z=x==y\n",
    "print(z)\n",
    "\n",
    "#Not equal \"!=\"\n",
    "\n",
    "a=16\n",
    "b=8\n",
    "a !=b\n",
    "\n",
    "x=8\n",
    "y=4\n",
    "x !=y\n",
    "\n",
    "\n"
   ]
  },
  {
   "cell_type": "code",
   "execution_count": 41,
   "id": "10a99eb5-c7d0-4979-a875-6ff2d4899f98",
   "metadata": {},
   "outputs": [
    {
     "name": "stdout",
     "output_type": "stream",
     "text": [
      "True\n"
     ]
    },
    {
     "data": {
      "text/plain": [
       "True"
      ]
     },
     "execution_count": 41,
     "metadata": {},
     "output_type": "execute_result"
    }
   ],
   "source": [
    "#greater than >\n",
    "a=6\n",
    "b=4\n",
    "c=a>b\n",
    "print(c)\n",
    "\n",
    "x=22\n",
    "y=33\n",
    "x>y\n",
    "\n",
    "#greater than or equal(>=)\n",
    "\n",
    "i=22\n",
    "j=6\n",
    "i>=j\n"
   ]
  },
  {
   "cell_type": "code",
   "execution_count": 96,
   "id": "a637beff-6c87-4266-bfaa-e6b044ac0b7b",
   "metadata": {},
   "outputs": [
    {
     "name": "stdout",
     "output_type": "stream",
     "text": [
      "True\n",
      "True\n",
      "False\n",
      "False\n",
      "False\n",
      "True\n",
      "True\n",
      "True\n",
      "True\n",
      "False\n",
      "False\n",
      "True\n",
      "False\n",
      "True\n",
      "False\n",
      "45\n",
      "-1\n",
      "True\n",
      "False\n",
      "True\n",
      "False\n"
     ]
    }
   ],
   "source": [
    "#Logical OPerator\n",
    "#by using and\n",
    "a=3<5\n",
    "b=5>3\n",
    "print(a and b)\n",
    "\n",
    "a=44>22\n",
    "b=22<44\n",
    "print(a and b)\n",
    "\n",
    "a=8.66>=10\n",
    "b=2>1\n",
    "print(a and b)\n",
    "\n",
    "\n",
    "x=0.264<2\n",
    "y=2<0.264\n",
    "print(x and y)\n",
    "\n",
    "a=22>=10\n",
    "b=10<0.99\n",
    "print(a and b)\n",
    "\n",
    "#by using or\n",
    "a=2.2>3\n",
    "b=4>2\n",
    "print(a or b)\n",
    "\n",
    "\n",
    "x=4*4>2\n",
    "y=2<4*4\n",
    "print(x or y)\n",
    "\n",
    "a=10+2>10\n",
    "b=10<2\n",
    "print(a or b)\n",
    "\n",
    "a=10\n",
    "b=22\n",
    "print(a>12 or b>10)\n",
    "\n",
    "#by using NOT\n",
    "x=22\n",
    "y=23\n",
    "print(x>y)\n",
    "print(not x<y)\n",
    "\n",
    "\n",
    "print(x>10 and y>x)\n",
    "print(not x>10 and y>x)\n",
    "\n",
    "a=2*8>3\n",
    "b=2*8<3\n",
    "print(a>b)\n",
    "print(a<b)\n",
    "\n",
    "\n",
    "a=x+y\n",
    "b=x-y\n",
    "print(a)\n",
    "print(b)\n",
    "print(a>b)\n",
    "print(not a>b)\n",
    "\n",
    "x=2*4\n",
    "y=6\n",
    "print(x>y)\n",
    "print(not x>y)"
   ]
  },
  {
   "cell_type": "code",
   "execution_count": 92,
   "id": "89eeec45-370f-4d05-84e9-099cdd659316",
   "metadata": {},
   "outputs": [
    {
     "name": "stdout",
     "output_type": "stream",
     "text": [
      "False\n",
      "False\n",
      "True\n",
      "True\n",
      "True\n",
      "True\n",
      "True\n",
      "True\n",
      "True\n",
      "16\n",
      "16\n",
      "True\n",
      "False\n"
     ]
    }
   ],
   "source": [
    "#identity operators\n",
    "\n",
    "x=5\n",
    "y=21\n",
    "print(x is y)\n",
    "\n",
    "\n",
    "x='hello'\n",
    "y='hello world'\n",
    "print(x is y)\n",
    "print(x is not y)\n",
    "\n",
    "a='prasad'\n",
    "b='chowdary'\n",
    "a1=33\n",
    "b1=33\n",
    "print(a1 is b1)\n",
    "print(a is not b)\n",
    "\n",
    "x=2\n",
    "y=4\n",
    "x1=2\n",
    "y1=4\n",
    "print(x is x1)\n",
    "print(x is not y1)\n",
    "print(y is y1)\n",
    "print(y is not x1)\n",
    "\n",
    "a=4*4\n",
    "b=12+4\n",
    "print(a)\n",
    "print(b)\n",
    "print( a is b)\n",
    "print( a is not b)"
   ]
  },
  {
   "cell_type": "code",
   "execution_count": 103,
   "id": "d811c181-61fb-404f-a5cc-d42b4b282179",
   "metadata": {},
   "outputs": [
    {
     "name": "stdout",
     "output_type": "stream",
     "text": [
      "True\n",
      "True\n",
      "False\n",
      "True\n",
      "True\n",
      "True\n",
      "True\n",
      "True\n",
      "True\n"
     ]
    }
   ],
   "source": [
    "# Membership\n",
    "\n",
    "a='prasad'\n",
    "b='chowdary'\n",
    "print('a'in a)\n",
    "print('a' in b)\n",
    "\n",
    "\n",
    "x='HELLO WORLD'\n",
    "Y=[1,2,3,4,5,6,7]\n",
    "print('h' in x)\n",
    "\n",
    "a=1,2,3,4,5,6,7\n",
    "b=1,2,3,4,5,6,7\n",
    "print(1 in a)\n",
    "print(1 in b)\n",
    "\n",
    "x='TEK ACADEMY'\n",
    "y=1,2,3,4,5,6\n",
    "print('t' not in x)\n",
    "print('TEK'in x)\n",
    "print(1 in y)\n",
    "print(5 in y)"
   ]
  },
  {
   "cell_type": "code",
   "execution_count": 108,
   "id": "985910f8-2263-4b78-9e5d-894c5d432133",
   "metadata": {},
   "outputs": [
    {
     "name": "stdout",
     "output_type": "stream",
     "text": [
      "29\n",
      "0\n",
      "851968\n",
      "0\n",
      "29\n"
     ]
    }
   ],
   "source": [
    "#Bitwise\n",
    "x=13\n",
    "y=16\n",
    "print(x|y)\n",
    "print(x&y)\n",
    "print(x<<y)\n",
    "print(x>>y)\n",
    "print(x^y)"
   ]
  },
  {
   "cell_type": "code",
   "execution_count": 109,
   "id": "9b11cb5e-09ed-4834-b9b0-dc2f8e35a602",
   "metadata": {},
   "outputs": [
    {
     "name": "stderr",
     "output_type": "stream",
     "text": [
      "<>:2: SyntaxWarning: 'int' object is not callable; perhaps you missed a comma?\n",
      "<>:2: SyntaxWarning: 'int' object is not callable; perhaps you missed a comma?\n",
      "C:\\Users\\Sri\\AppData\\Local\\Temp\\ipykernel_17472\\1882759290.py:2: SyntaxWarning: 'int' object is not callable; perhaps you missed a comma?\n",
      "  7+35-10(12+7+6*3)-5\n"
     ]
    },
    {
     "ename": "TypeError",
     "evalue": "'int' object is not callable",
     "output_type": "error",
     "traceback": [
      "\u001b[1;31m---------------------------------------------------------------------------\u001b[0m",
      "\u001b[1;31mTypeError\u001b[0m                                 Traceback (most recent call last)",
      "Cell \u001b[1;32mIn[109], line 2\u001b[0m\n\u001b[0;32m      1\u001b[0m \u001b[38;5;66;03m#parenthesis\u001b[39;00m\n\u001b[1;32m----> 2\u001b[0m \u001b[38;5;241m7\u001b[39m\u001b[38;5;241m+\u001b[39m\u001b[38;5;241m35\u001b[39m\u001b[38;5;241m-\u001b[39m\u001b[38;5;241m10\u001b[39m(\u001b[38;5;241m12\u001b[39m\u001b[38;5;241m+\u001b[39m\u001b[38;5;241m7\u001b[39m\u001b[38;5;241m+\u001b[39m\u001b[38;5;241m6\u001b[39m\u001b[38;5;241m*\u001b[39m\u001b[38;5;241m3\u001b[39m)\u001b[38;5;241m-\u001b[39m\u001b[38;5;241m5\u001b[39m\n",
      "\u001b[1;31mTypeError\u001b[0m: 'int' object is not callable"
     ]
    }
   ],
   "source": [
    "#parenthesis\n",
    "7+35-10(12+7+6*3)-5"
   ]
  },
  {
   "cell_type": "code",
   "execution_count": 131,
   "id": "f9c54973-d0d2-437e-bac7-2933624d88fd",
   "metadata": {},
   "outputs": [
    {
     "name": "stdout",
     "output_type": "stream",
     "text": [
      "64\n",
      "48\n",
      "112\n",
      "55\n",
      "106\n",
      "161\n"
     ]
    }
   ],
   "source": [
    "#parenthesis\n",
    "a=7+35-10+(12+7+6*3)-5\n",
    "b=3+5-2*6+(6*2)+8*5\n",
    "print(a)\n",
    "print(b)\n",
    "c=a+b\n",
    "print(c)\n",
    "\n",
    "x=(3*3*4)+2-16+33\n",
    "y=2+2*8+12+(8*8)+12\n",
    "print(x)\n",
    "print(y)\n",
    "a=x+y\n",
    "print(a)\n",
    "\n",
    "\n",
    "\n"
   ]
  },
  {
   "cell_type": "code",
   "execution_count": 124,
   "id": "be89874b-87d0-461f-ac65-dd69274b3bd0",
   "metadata": {},
   "outputs": [
    {
     "data": {
      "text/plain": [
       "55"
      ]
     },
     "execution_count": 124,
     "metadata": {},
     "output_type": "execute_result"
    }
   ],
   "source": [
    "\n",
    "(3*3*4)+2-16+33"
   ]
  },
  {
   "cell_type": "code",
   "execution_count": 129,
   "id": "d26b1dcb-04c4-48e7-9e5a-b1770ddd003c",
   "metadata": {},
   "outputs": [
    {
     "name": "stderr",
     "output_type": "stream",
     "text": [
      "<>:2: SyntaxWarning: 'int' object is not callable; perhaps you missed a comma?\n",
      "<>:2: SyntaxWarning: 'int' object is not callable; perhaps you missed a comma?\n",
      "C:\\Users\\Sri\\AppData\\Local\\Temp\\ipykernel_17472\\1531573518.py:2: SyntaxWarning: 'int' object is not callable; perhaps you missed a comma?\n",
      "  y=2+2*8+12(8*8)+12\n"
     ]
    },
    {
     "ename": "TypeError",
     "evalue": "'int' object is not callable",
     "output_type": "error",
     "traceback": [
      "\u001b[1;31m---------------------------------------------------------------------------\u001b[0m",
      "\u001b[1;31mTypeError\u001b[0m                                 Traceback (most recent call last)",
      "Cell \u001b[1;32mIn[129], line 2\u001b[0m\n\u001b[0;32m      1\u001b[0m x\u001b[38;5;241m=\u001b[39m(\u001b[38;5;241m3\u001b[39m\u001b[38;5;241m*\u001b[39m\u001b[38;5;241m3\u001b[39m\u001b[38;5;241m*\u001b[39m\u001b[38;5;241m4\u001b[39m)\u001b[38;5;241m+\u001b[39m\u001b[38;5;241m2\u001b[39m\u001b[38;5;241m-\u001b[39m\u001b[38;5;241m16\u001b[39m\u001b[38;5;241m+\u001b[39m\u001b[38;5;241m33\u001b[39m\n\u001b[1;32m----> 2\u001b[0m y\u001b[38;5;241m=\u001b[39m\u001b[38;5;241m2\u001b[39m\u001b[38;5;241m+\u001b[39m\u001b[38;5;241m2\u001b[39m\u001b[38;5;241m*\u001b[39m\u001b[38;5;241m8\u001b[39m\u001b[38;5;241m+\u001b[39m\u001b[38;5;241m12\u001b[39m(\u001b[38;5;241m8\u001b[39m\u001b[38;5;241m*\u001b[39m\u001b[38;5;241m8\u001b[39m)\u001b[38;5;241m+\u001b[39m\u001b[38;5;241m12\u001b[39m\n\u001b[0;32m      3\u001b[0m a\u001b[38;5;241m=\u001b[39mx\u001b[38;5;241m+\u001b[39my\n\u001b[0;32m      4\u001b[0m \u001b[38;5;28mprint\u001b[39m(a)\n",
      "\u001b[1;31mTypeError\u001b[0m: 'int' object is not callable"
     ]
    }
   ],
   "source": [
    "x=(3*3*4)+2-16+33\n",
    "y=2+2*8+12+(8*8)+12\n",
    "a=x+y\n",
    "print(a)\n"
   ]
  },
  {
   "cell_type": "code",
   "execution_count": null,
   "id": "91895427-b5d5-4f63-a1e2-8ad452c27669",
   "metadata": {},
   "outputs": [],
   "source": []
  }
 ],
 "metadata": {
  "kernelspec": {
   "display_name": "Python 3 (ipykernel)",
   "language": "python",
   "name": "python3"
  },
  "language_info": {
   "codemirror_mode": {
    "name": "ipython",
    "version": 3
   },
   "file_extension": ".py",
   "mimetype": "text/x-python",
   "name": "python",
   "nbconvert_exporter": "python",
   "pygments_lexer": "ipython3",
   "version": "3.11.7"
  }
 },
 "nbformat": 4,
 "nbformat_minor": 5
}
