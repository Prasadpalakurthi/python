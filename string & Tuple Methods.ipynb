{
 "cells": [
  {
   "cell_type": "code",
   "execution_count": 8,
   "id": "e54200e9-0c2a-4bfd-977f-39ad7f441979",
   "metadata": {},
   "outputs": [
    {
     "name": "stdout",
     "output_type": "stream",
     "text": [
      "6\n",
      "5\n",
      "13\n",
      "12\n",
      "34\n"
     ]
    }
   ],
   "source": [
    "#len()\n",
    "name='prasad'\n",
    "variable='     '\n",
    "bike='Royal enfield'\n",
    "institute='Teks Academy'\n",
    "manifacture='industrial Engineering Corporation'\n",
    "\n",
    "print(len(name))\n",
    "print(len(variable))\n",
    "print(len(bike))\n",
    "print(len(institute))\n",
    "print(len(manifacture))"
   ]
  },
  {
   "cell_type": "code",
   "execution_count": 9,
   "id": "08a5c201-5113-4e16-a024-17904f3ae462",
   "metadata": {},
   "outputs": [
    {
     "name": "stdout",
     "output_type": "stream",
     "text": [
      "PRASAD\n",
      "HELLO  WORLD   \n",
      "ROYAL ENFIELD\n",
      "TEKS ACADEMY\n",
      "INDUSTRIAL ENGINEERING CORPORATION\n",
      "--------------------------------------------\n",
      "prasad\n",
      "hello  world\n",
      "royal enfield\n",
      "teks academy\n",
      "industrial engineering corporation\n"
     ]
    }
   ],
   "source": [
    "# upper case\n",
    "name='prasad'\n",
    "variable='hello  world   '\n",
    "bike='royal enfield'\n",
    "institute='teks academy'\n",
    "manifacture='industrial Engineering Corporation'\n",
    "print(name.upper())\n",
    "print(variable.upper())\n",
    "print(bike.upper())\n",
    "print(institute.upper())\n",
    "print(manifacture.upper())\n",
    "\n",
    "print('--------------------------------------------')\n",
    "#lower case\n",
    "name='PRASAD'\n",
    "variable='HELLO  WORLD'   \n",
    "bike='ROYAL ENFIELD'\n",
    "institute='TEKS ACADEMY'\n",
    "manifacture='INDUSTRIAL ENGINEERING CORPORATION'\n",
    "print(name.lower())\n",
    "print(variable.lower())\n",
    "print(bike.lower())\n",
    "print(institute.lower())\n",
    "print(manifacture.lower())"
   ]
  },
  {
   "cell_type": "code",
   "execution_count": 10,
   "id": "a3691ac2-36d3-43fc-bf75-cb996b8ae321",
   "metadata": {},
   "outputs": [
    {
     "name": "stdout",
     "output_type": "stream",
     "text": [
      "PRASAD\n",
      "HELLO  WORLD\n",
      "ROYAL ENFIELD\n",
      "TEKS ACADEMY\n",
      "INDUSTRIAL ENGINEERING CORPORATION\n"
     ]
    }
   ],
   "source": [
    "#strip\n",
    "name='   PRASAD   '\n",
    "variable='   HELLO  WORLD  '   \n",
    "bike='ROYAL ENFIELD      '\n",
    "institute='     TEKS ACADEMY     '\n",
    "manifacture='    INDUSTRIAL ENGINEERING CORPORATION   '\n",
    "name.strip()\n",
    "variable.strip()\n",
    "bike.strip()\n",
    "institute.strip()\n",
    "manifacture.strip()\n",
    "print(name.strip())\n",
    "print(variable.strip())\n",
    "print(bike.strip())\n",
    "print(institute.strip())\n",
    "print(manifacture.strip())\n"
   ]
  },
  {
   "cell_type": "code",
   "execution_count": 11,
   "id": "28507f86-3eb2-4b03-99e2-ff44cc518bcb",
   "metadata": {},
   "outputs": [
    {
     "name": "stdout",
     "output_type": "stream",
     "text": [
      "hello,python\n",
      "i am Prasad Chowdary\n",
      "i am from kakinada\n"
     ]
    }
   ],
   "source": [
    "#replace\n",
    "my_string='hello,world'\n",
    "print(my_string.replace('world','python'))\n",
    "info='This is Prasad Chowdary'\n",
    "print(info.replace('This is','i am'))\n",
    "person='i am from Hyderbad'\n",
    "print(person.replace('Hyderbad','kakinada'))"
   ]
  },
  {
   "cell_type": "code",
   "execution_count": 12,
   "id": "a2de04a8-0fec-448c-92fe-f68c90e8c2bc",
   "metadata": {},
   "outputs": [
    {
     "name": "stdout",
     "output_type": "stream",
     "text": [
      "['industrial', 'Engineering', 'Corporation']\n",
      "['hello', 'world', 'python']\n",
      "['royal', 'enfield']\n"
     ]
    }
   ],
   "source": [
    "#split\n",
    "manifacture='industrial Engineering Corporation'\n",
    "variable='hello  world   python'\n",
    "bike='royal enfield'\n",
    "manifacture=manifacture.split()\n",
    "print(manifacture)\n",
    "variable=variable.split()\n",
    "print(variable)\n",
    "bike=bike.split()\n",
    "print(bike)\n"
   ]
  },
  {
   "cell_type": "code",
   "execution_count": 13,
   "id": "81b51832-0f27-4fe9-a4c6-89ad8e8c20c2",
   "metadata": {},
   "outputs": [
    {
     "name": "stdout",
     "output_type": "stream",
     "text": [
      "industrial Engineering Corporation\n",
      "hello world python\n",
      "royal enfield\n"
     ]
    }
   ],
   "source": [
    "#join\n",
    "manifacture='industrial', 'Engineering', 'Corporation'\n",
    "variable='hello', 'world', 'python'\n",
    "bike='royal', 'enfield'\n",
    "manifacture=\" \".join(manifacture)\n",
    "variable=\" \".join(variable)\n",
    "bike=\" \".join(bike)\n",
    "print(manifacture)\n",
    "print(variable)\n",
    "print(bike)"
   ]
  },
  {
   "cell_type": "code",
   "execution_count": null,
   "id": "95c134b9-8e90-4e05-b7c4-44fbfe82dc39",
   "metadata": {},
   "outputs": [],
   "source": [
    "#Tuples\n",
    "#tuples"
   ]
  },
  {
   "cell_type": "code",
   "execution_count": 31,
   "id": "925df174-870a-4dfa-bafe-f2eb37874375",
   "metadata": {},
   "outputs": [
    {
     "data": {
      "text/plain": [
       "(1, 2, 3, 4, 0.1, 0.2, 0.3, 0.4, 'a', 'b', 'c', 'd', 'apple', 'Ball', 'bat')"
      ]
     },
     "execution_count": 31,
     "metadata": {},
     "output_type": "execute_result"
    }
   ],
   "source": [
    "#mixed Tuples\n",
    "Mixed_Tuples=(1,2,3,4,0.1,0.2,0.3,0.4,'a','b','c','d','apple','Ball','bat')\n",
    "Mixed_Tuples"
   ]
  },
  {
   "cell_type": "code",
   "execution_count": 41,
   "id": "ea32270c-5cdc-4a30-b2da-9968202f1380",
   "metadata": {},
   "outputs": [
    {
     "name": "stdout",
     "output_type": "stream",
     "text": [
      "veeri\n",
      "('prasad',)\n",
      "0.4\n",
      "(1, 2, 3, 4, 5, 6, 7, 0.1, 0.2, 0.3)\n"
     ]
    }
   ],
   "source": [
    "#accesing of tuples\n",
    "#indexing & slicing\n",
    "names=('prasad','veeri','sampath','prasad','laxmi')\n",
    "numbers=(1,2,3,4,5,6,7,0.1,0.2,0.3,0.4)\n",
    "print(names[1])\n",
    "print(names[0:1])\n",
    "print(numbers[-1])\n",
    "print(numbers[:-1])\n"
   ]
  },
  {
   "cell_type": "code",
   "execution_count": 46,
   "id": "0ac35e4f-41ec-495d-aae6-ad5f35b20057",
   "metadata": {},
   "outputs": [
    {
     "ename": "TypeError",
     "evalue": "'tuple' object does not support item assignment",
     "output_type": "error",
     "traceback": [
      "\u001b[1;31m---------------------------------------------------------------------------\u001b[0m",
      "\u001b[1;31mTypeError\u001b[0m                                 Traceback (most recent call last)",
      "Cell \u001b[1;32mIn[46], line 2\u001b[0m\n\u001b[0;32m      1\u001b[0m names\u001b[38;5;241m=\u001b[39m(\u001b[38;5;124m'\u001b[39m\u001b[38;5;124mprasad\u001b[39m\u001b[38;5;124m'\u001b[39m,\u001b[38;5;124m'\u001b[39m\u001b[38;5;124mveeri\u001b[39m\u001b[38;5;124m'\u001b[39m,\u001b[38;5;124m'\u001b[39m\u001b[38;5;124mhari\u001b[39m\u001b[38;5;124m'\u001b[39m,\u001b[38;5;124m'\u001b[39m\u001b[38;5;124mlaxmi\u001b[39m\u001b[38;5;124m'\u001b[39m,\u001b[38;5;124m'\u001b[39m\u001b[38;5;124msampath\u001b[39m\u001b[38;5;124m'\u001b[39m)\n\u001b[1;32m----> 2\u001b[0m names[\u001b[38;5;241m1\u001b[39m]\u001b[38;5;241m=\u001b[39m\u001b[38;5;124m'\u001b[39m\u001b[38;5;124mvenky\u001b[39m\u001b[38;5;124m'\u001b[39m\n",
      "\u001b[1;31mTypeError\u001b[0m: 'tuple' object does not support item assignment"
     ]
    }
   ],
   "source": [
    "#immutability\n",
    "names=('prasad','veeri','hari','laxmi','sampath')\n",
    "names[1]='venky'"
   ]
  },
  {
   "cell_type": "code",
   "execution_count": 44,
   "id": "ddc24d95-ee38-4352-b6ee-823d738a0169",
   "metadata": {},
   "outputs": [
    {
     "name": "stdout",
     "output_type": "stream",
     "text": [
      "(1, 2, 3, 4, 'a', 'b', 'c', 'd')\n",
      "(1, 2, 3, 4, 0.1, 0.2, 0.3, 0.4, 'a', 'b', 'c', 'd', 'apple', 'Ball', 'bat', 'a', 1, 2, 3, 0.1, 0.2, 0.3)\n",
      "--------\n",
      "(1, 2, 3, 4, 1, 2, 3, 4, 1, 2, 3, 4)\n",
      "('a', 'b', 'c', 'd', 'a', 'b', 'c', 'd', 'a', 'b', 'c', 'd', 'a', 'b', 'c', 'd')\n"
     ]
    }
   ],
   "source": [
    "#Tuple operations\n",
    "#concatination\n",
    "\n",
    "Tuple1=(1,2,3,4)\n",
    "Tuple2=('a','b','c','d')\n",
    "result=(Tuple1+Tuple2)\n",
    "print(result)\n",
    "Mixed_Tuples=(1,2,3,4,0.1,0.2,0.3,0.4,'a','b','c','d','apple','Ball','bat')\n",
    "tuple1=('a',1,2,3,0.1,0.2,0.3)\n",
    "c=(Mixed_Tuples+tuple1)\n",
    "print(c)\n",
    "\n",
    "\n",
    "print('--------')\n",
    "\n",
    "#repetation\n",
    "a=Tuple1*3\n",
    "b=Tuple2*4\n",
    "print(a)\n",
    "print(b)"
   ]
  },
  {
   "cell_type": "code",
   "execution_count": 23,
   "id": "40b8b453-f299-46b7-b566-c6b3fa4eed47",
   "metadata": {},
   "outputs": [
    {
     "name": "stdout",
     "output_type": "stream",
     "text": [
      "3\n",
      "2\n",
      "-----------------\n",
      "4\n",
      "prasad\n"
     ]
    }
   ],
   "source": [
    "#Tuple methods\n",
    "#count\n",
    "numbers=(1,2,3,4,5,3,5,6,7,3)\n",
    "count=numbers.count(3)\n",
    "print(count)\n",
    "\n",
    "names=('prasad','veeri','sampath','prasad','laxmi')\n",
    "count=names.count('prasad')\n",
    "print(count)\n",
    "\n",
    "print('-----------------')\n",
    "#index\n",
    "numbers=(1,2,3,4,5,3,5,6,7,3)\n",
    "print(numbers[3])\n",
    "names=('prasad','veeri','sampath','prasad','laxmi')\n",
    "print(names[3])"
   ]
  },
  {
   "cell_type": "code",
   "execution_count": null,
   "id": "366f5a65-8ce1-463d-9216-b608543ac459",
   "metadata": {},
   "outputs": [],
   "source": [
    "my_string='hari',veeri\n",
    "print(my_string.replace('prasad','python'))"
   ]
  }
 ],
 "metadata": {
  "kernelspec": {
   "display_name": "Python 3 (ipykernel)",
   "language": "python",
   "name": "python3"
  },
  "language_info": {
   "codemirror_mode": {
    "name": "ipython",
    "version": 3
   },
   "file_extension": ".py",
   "mimetype": "text/x-python",
   "name": "python",
   "nbconvert_exporter": "python",
   "pygments_lexer": "ipython3",
   "version": "3.11.7"
  }
 },
 "nbformat": 4,
 "nbformat_minor": 5
}
