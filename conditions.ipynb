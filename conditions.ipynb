{
 "cells": [
  {
   "cell_type": "code",
   "execution_count": null,
   "id": "9ad1efc0-8a91-45d2-9c16-c7f60866f0c8",
   "metadata": {},
   "outputs": [],
   "source": [
    "#condition Statements\n",
    "x=int(input('enter number'))\n",
    "y=int(input('enter number'))\n",
    "z=int(input('enter number')) \n",
    "if x>=y and x>=z:\n",
    "    print('x is Biggest')\n",
    "elif y>=z and y>=x: \n",
    "    print('y is Biggest')\n",
    "else:\n",
    "    print('its greatest')"
   ]
  }
 ],
 "metadata": {
  "kernelspec": {
   "display_name": "Python 3 (ipykernel)",
   "language": "python",
   "name": "python3"
  },
  "language_info": {
   "codemirror_mode": {
    "name": "ipython",
    "version": 3
   },
   "file_extension": ".py",
   "mimetype": "text/x-python",
   "name": "python",
   "nbconvert_exporter": "python",
   "pygments_lexer": "ipython3",
   "version": "3.11.7"
  }
 },
 "nbformat": 4,
 "nbformat_minor": 5
}
