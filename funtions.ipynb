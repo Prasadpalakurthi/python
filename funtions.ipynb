{
 "cells": [
  {
   "cell_type": "code",
   "execution_count": 39,
   "id": "5c894668-4c3b-494f-921b-9613027ebf40",
   "metadata": {},
   "outputs": [
    {
     "data": {
      "text/plain": [
       "12"
      ]
     },
     "execution_count": 39,
     "metadata": {},
     "output_type": "execute_result"
    }
   ],
   "source": [
    "def add_numbers(num1,num2):\n",
    "    sum=num1+num2\n",
    "    return(sum)\n",
    "add(4,8)"
   ]
  },
  {
   "cell_type": "code",
   "execution_count": 31,
   "id": "1a441a69-299e-4bc4-8709-d5d41d1bdecd",
   "metadata": {},
   "outputs": [
    {
     "data": {
      "text/plain": [
       "9"
      ]
     },
     "execution_count": 31,
     "metadata": {},
     "output_type": "execute_result"
    }
   ],
   "source": [
    "def add(n1,n2,n3):\n",
    "    sum=n1+n2+n3\n",
    "    return sum\n",
    "add(2,3,4)"
   ]
  },
  {
   "cell_type": "code",
   "execution_count": 44,
   "id": "cfc550c8-ac6e-4440-9903-e6472f661c4c",
   "metadata": {},
   "outputs": [
    {
     "name": "stdout",
     "output_type": "stream",
     "text": [
      "2.8284271247461903\n"
     ]
    }
   ],
   "source": [
    "import math\n",
    "def square_root(x):\n",
    "    return math.sqrt(x)\n",
    "square_root = square_root(8)\n",
    "print(square_root)\n",
    "\n",
    "\n"
   ]
  },
  {
   "cell_type": "code",
   "execution_count": 45,
   "id": "f99d4739-e1de-4b35-8aba-fb7ba69f41bf",
   "metadata": {},
   "outputs": [
    {
     "name": "stdout",
     "output_type": "stream",
     "text": [
      "105\n"
     ]
    }
   ],
   "source": [
    "#lambda\n",
    "x=lambda a:a+100\n",
    "print(x(5))"
   ]
  },
  {
   "cell_type": "code",
   "execution_count": 46,
   "id": "0227c6df-9ca5-4779-aee6-9a84ca9a9204",
   "metadata": {},
   "outputs": [],
   "source": [
    "def myfun(i):\n",
    "    return lambda a:a*i\n",
    "    multi(myfun(5))\n",
    "    print(multi(2))"
   ]
  },
  {
   "cell_type": "code",
   "execution_count": null,
   "id": "85223c71-3ca1-4cfa-85a9-ec965c6dead6",
   "metadata": {},
   "outputs": [],
   "source": [
    "import math\n",
    "def square_root(x):\n",
    "    return math.sqrt(x)\n",
    "square_root = square_root(4)\n",
    "print(square_root)"
   ]
  }
 ],
 "metadata": {
  "kernelspec": {
   "display_name": "Python 3 (ipykernel)",
   "language": "python",
   "name": "python3"
  },
  "language_info": {
   "codemirror_mode": {
    "name": "ipython",
    "version": 3
   },
   "file_extension": ".py",
   "mimetype": "text/x-python",
   "name": "python",
   "nbconvert_exporter": "python",
   "pygments_lexer": "ipython3",
   "version": "3.11.7"
  }
 },
 "nbformat": 4,
 "nbformat_minor": 5
}
