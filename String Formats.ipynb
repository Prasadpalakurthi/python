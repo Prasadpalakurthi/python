{
 "cells": [
  {
   "cell_type": "code",
   "execution_count": 9,
   "id": "56585ffc-a65c-41eb-8024-dbe68bdb3b51",
   "metadata": {},
   "outputs": [
    {
     "name": "stdout",
     "output_type": "stream",
     "text": [
      "My is venkat and i am studying at Aditya english medium.\n",
      "This is prasad and i am 22 year old. \n",
      "i am Hari and i am from kakinada and i am 22 years old.\n"
     ]
    }
   ],
   "source": [
    "# % operator\n",
    "name='venkat'\n",
    "school='Aditya english medium'\n",
    "student_info='My is %s and i am studying at %s.'%(name,school)\n",
    "print(student_info)\n",
    "\n",
    "name='prasad'\n",
    "age=22\n",
    "person_info='This is %s and i am %d year old. '%(name,age)\n",
    "print(person_info)\n",
    "\n",
    "person='Hari'\n",
    "location='kakinada'\n",
    "age='22'\n",
    "person_info='i am %s and i am from %s and i am %s years old.'%(person,location,age)\n",
    "print(person_info)\n"
   ]
  },
  {
   "cell_type": "code",
   "execution_count": 8,
   "id": "9d84fd66-cf21-4976-8227-6a13fc734701",
   "metadata": {},
   "outputs": [
    {
     "name": "stdout",
     "output_type": "stream",
     "text": [
      "my name is Devil and i am studying at Aditya english medium and its located at Aditya nagar\n",
      "This is prasad and my friends are (veerendra,sampath,laxmi) we  are together from Last 15 years\n",
      "The Name of The Bike is Royal Enfield,name of The MOdel is classic and The capacity Of The Bike is 350 and its costs upto 259000 \n"
     ]
    }
   ],
   "source": [
    "# Format operator\n",
    "name='Devil'\n",
    "school='Aditya english medium'\n",
    "area='Aditya nagar'\n",
    "information='my name is {} and i am studying at {} and its located at {}'.format(name,school,area)\n",
    "print(information)\n",
    "\n",
    "name='prasad'\n",
    "name1='(veerendra,sampath,laxmi)'\n",
    "years=15\n",
    "person_info='This is {} and my friends are {} we  are together from Last {} years'.format(name,name1,years)\n",
    "print(person_info)\n",
    "\n",
    "\n",
    "\n",
    "Brand='Royal Enfield'\n",
    "Type='classic'\n",
    "capacity='350'\n",
    "Price=250000\n",
    "Bike_Details='The Name of The Bike is {},name of The MOdel is {} and The capacity Of The Bike is {} and its costs upto {} '.format(Brand,Type,capacity,price)\n",
    "print(Bike_Details)"
   ]
  },
  {
   "cell_type": "code",
   "execution_count": 7,
   "id": "8c75ec32-c805-4eea-abb6-d772a463098b",
   "metadata": {},
   "outputs": [
    {
     "name": "stdout",
     "output_type": "stream",
     "text": [
      "The Name of The Brand is Royal Enfield ,name of The MOdel is classic and The capacity Of The Bike is 350CC and its costs upto 259000 .\n"
     ]
    }
   ],
   "source": [
    "# f-sting\n",
    "Bike= 'Royal Enfield'\n",
    "Type= 'classic'\n",
    "capacity= '350CC'\n",
    "Price= 250000\n",
    "Bike_Details=f'The Name of The Brand is {Bike} ,name of The MOdel is {Type} and The capacity Of The Bike is {capacity} and its costs upto {price} .'\n",
    "print(Bike_Details)\n"
   ]
  },
  {
   "cell_type": "code",
   "execution_count": 6,
   "id": "3ebd4b91-258d-4314-bfe9-55afaa2b6bfc",
   "metadata": {},
   "outputs": [
    {
     "name": "stdin",
     "output_type": "stream",
     "text": [
      "Name Of The Bike Royal Enfield\n",
      "cost Of The Of The Bike 259000\n",
      "Model Of The Bike classic\n",
      "Capacity Of The Bike 349Cc\n"
     ]
    }
   ],
   "source": [
    "#Dynamic \n",
    "Bike=input('Name Of The Bike')     \n",
    "price=input('cost Of The Of The Bike')\n",
    "Type=input('Model Of The Bike')\n",
    "capacity=input('Capacity Of The Bike')"
   ]
  },
  {
   "cell_type": "code",
   "execution_count": 12,
   "id": "54d04bc3-eec8-4545-bbec-cf66dd928bb2",
   "metadata": {},
   "outputs": [
    {
     "name": "stdin",
     "output_type": "stream",
     "text": [
      "Name Of The Bike Royal Enfield\n",
      "cost Of The Of The Bike 259000\n",
      "Model Of The Bike Classic\n",
      "Capacity Of The Bike 349CC\n"
     ]
    },
    {
     "name": "stdout",
     "output_type": "stream",
     "text": [
      "The Name of The Brand is Royal Enfield,name of The MOdel is Classic and The capacity Of The Bike is 349CC and its costs upto 259000.\n"
     ]
    }
   ],
   "source": [
    "# using %OPERATOR Dynamically\n",
    "\n",
    "Bike=input('Name Of The Bike')     \n",
    "price=input('cost Of The Of The Bike')\n",
    "Type=input('Model Of The Bike')\n",
    "capacity=input('Capacity Of The Bike')\n",
    "sentence= 'The Name of The Brand is %s,name of The MOdel is %s and The capacity Of The Bike is %s and its costs upto %s.'%(Bike,Type,capacity,price)\n",
    "print(sentence)"
   ]
  },
  {
   "cell_type": "code",
   "execution_count": 13,
   "id": "cb8c5b1c-20d4-42e9-bd3b-e264daf04f88",
   "metadata": {},
   "outputs": [
    {
     "name": "stdin",
     "output_type": "stream",
     "text": [
      "Name Of The Bike Royal enfield\n",
      "cost Of The Of The Bike 259000\n",
      "Model Of The Bike classic\n",
      "Capacity Of The Bike 349Cc\n"
     ]
    },
    {
     "name": "stdout",
     "output_type": "stream",
     "text": [
      "The Name of The Brand is Royal enfield,name of The MOdel is classic and The capacity Of The Bike is 349Cc and its costs upto 259000\n"
     ]
    }
   ],
   "source": [
    "# using format method Dynamically\n",
    "Bike=input('Name Of The Bike')     \n",
    "price=input('cost Of The Of The Bike')\n",
    "Type=input('Model Of The Bike')\n",
    "capacity=input('Capacity Of The Bike')\n",
    "sentence= 'The Name of The Brand is {},name of The MOdel is {} and The capacity Of The Bike is {} and its costs upto {}'.format(Bike,Type,capacity,price)\n",
    "print(sentence)"
   ]
  },
  {
   "cell_type": "code",
   "execution_count": 15,
   "id": "ed1bf0e8-cc4f-4db2-92f9-912aacfe268f",
   "metadata": {},
   "outputs": [
    {
     "name": "stdin",
     "output_type": "stream",
     "text": [
      "Name Of The Bike Royal Enfield\n",
      "cost Of The Of The Bike 259000\n",
      "Model Of The Bike Classic\n",
      "Capacity Of The Bike 349CC\n"
     ]
    },
    {
     "name": "stdout",
     "output_type": "stream",
     "text": [
      "The Name of The Brand is Royal Enfield,name of The MOdel is Classic and The capacity Of The Bike is 349CC and its costs upto 259000.\n"
     ]
    }
   ],
   "source": [
    "#  f-sting in Dynamic Method \n",
    "Bike=input('Name Of The Bike')     \n",
    "price=input('cost Of The Of The Bike')\n",
    "Type=input('Model Of The Bike')\n",
    "capacity=input('Capacity Of The Bike')\n",
    "sentence= f'The Name of The Brand is {Bike},name of The MOdel is {Type} and The capacity Of The Bike is {capacity} and its costs upto {price}.'\n",
    "print(sentence)"
   ]
  },
  {
   "cell_type": "code",
   "execution_count": null,
   "id": "831a5841-3433-400c-97b7-184cf796a67a",
   "metadata": {},
   "outputs": [],
   "source": []
  }
 ],
 "metadata": {
  "kernelspec": {
   "display_name": "Python 3 (ipykernel)",
   "language": "python",
   "name": "python3"
  },
  "language_info": {
   "codemirror_mode": {
    "name": "ipython",
    "version": 3
   },
   "file_extension": ".py",
   "mimetype": "text/x-python",
   "name": "python",
   "nbconvert_exporter": "python",
   "pygments_lexer": "ipython3",
   "version": "3.11.7"
  }
 },
 "nbformat": 4,
 "nbformat_minor": 5
}
