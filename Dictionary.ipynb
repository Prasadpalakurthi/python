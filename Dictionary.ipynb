{
 "cells": [
  {
   "cell_type": "code",
   "execution_count": 10,
   "id": "d032e3c4-4b17-4c5d-8750-f4380873b496",
   "metadata": {},
   "outputs": [
    {
     "name": "stdout",
     "output_type": "stream",
     "text": [
      "prasad\n",
      "22\n"
     ]
    }
   ],
   "source": [
    "#Dictionary\n",
    "Student_Data={\n",
    "    'name':'prasad',\n",
    "    'age':22,\n",
    "    'location':'Andha',\n",
    "    'Qualification':'Btech'\n",
    "}\n",
    "print(Student_Data['name'])\n",
    "print(Student_Data['age'])\n",
    "\n",
    "    "
   ]
  },
  {
   "cell_type": "code",
   "execution_count": 19,
   "id": "a0da1af5-b06d-463f-ae6f-20007d7db4c4",
   "metadata": {},
   "outputs": [
    {
     "name": "stdout",
     "output_type": "stream",
     "text": [
      "{'name': 'prasad', 'age': 23, 'location': 'Andha', 'Qualification': 'Btech'}\n",
      "{'name': 'prasad chowddary', 'age': 23, 'location': 'Andha', 'Qualification': 'Btech'}\n"
     ]
    }
   ],
   "source": [
    "#Modifying The entry\n",
    "Student_Data={\n",
    "    'name':'prasad',\n",
    "    'age':22,\n",
    "    'location':'Andha',\n",
    "    'Qualification':'Btech'\n",
    "}\n",
    "Student_Data['age']=23\n",
    "print(Student_Data)\n",
    "Student_Data['name']='prasad chowddary'\n",
    "print(Student_Data)"
   ]
  },
  {
   "cell_type": "code",
   "execution_count": 13,
   "id": "1ced319b-0a30-4ecb-b35a-ac3f559c6ef7",
   "metadata": {},
   "outputs": [
    {
     "name": "stdout",
     "output_type": "stream",
     "text": [
      "['A+']\n",
      "dict_keys(['name', 'age', 'location', 'Qualification', 'grades'])\n",
      "dict_values(['prasad', 22, 'Andha', 'Btech', ['A+']])\n",
      "dict_items([('name', 'prasad'), ('age', 22), ('location', 'Andha'), ('Qualification', 'Btech'), ('grades', ['A+'])])\n"
     ]
    }
   ],
   "source": [
    "#Dictionary Methods\n",
    "#get\n",
    "Student_Data={\n",
    "    'name':'prasad',\n",
    "    'age':22,\n",
    "    'location':'Andha',\n",
    "    'Qualification':'Btech',\n",
    "    'grades':['A+']\n",
    "}\n",
    "grade=Student_Data.get('grades')\n",
    "print(grade)\n",
    "#Dictionary key\n",
    "keys=Student_Data.keys()\n",
    "print(keys)\n",
    "#Dictionary values\n",
    "values=Student_Data.values()\n",
    "print(values)\n",
    "#Dictionary items\n",
    "items=Student_Data.items()\n",
    "print(items)\n"
   ]
  },
  {
   "cell_type": "code",
   "execution_count": 14,
   "id": "6f695da4-ded4-42d5-8eab-85adee4010c0",
   "metadata": {},
   "outputs": [
    {
     "name": "stdout",
     "output_type": "stream",
     "text": [
      "22\n",
      "('grade', 'A')\n"
     ]
    }
   ],
   "source": [
    "#Dictionary \n",
    "student={\n",
    "    'name':'prasad',\n",
    "    'age':22,\n",
    "    'grade':'A'\n",
    "}\n",
    "#pop\n",
    "pop=student.pop('age')\n",
    "print(pop)\n",
    "#pop item(removes the last inserted  key_value)\n",
    "item=student.popitem()\n",
    "print(item)"
   ]
  },
  {
   "cell_type": "code",
   "execution_count": null,
   "id": "249e045b-12f1-4962-9c82-1a82b94db591",
   "metadata": {},
   "outputs": [],
   "source": []
  }
 ],
 "metadata": {
  "kernelspec": {
   "display_name": "Python 3 (ipykernel)",
   "language": "python",
   "name": "python3"
  },
  "language_info": {
   "codemirror_mode": {
    "name": "ipython",
    "version": 3
   },
   "file_extension": ".py",
   "mimetype": "text/x-python",
   "name": "python",
   "nbconvert_exporter": "python",
   "pygments_lexer": "ipython3",
   "version": "3.11.7"
  }
 },
 "nbformat": 4,
 "nbformat_minor": 5
}
