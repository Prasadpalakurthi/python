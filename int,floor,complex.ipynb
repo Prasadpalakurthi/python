{
 "cells": [
  {
   "cell_type": "code",
   "execution_count": 2,
   "id": "347b47bd-e000-4523-b482-e78cf0162270",
   "metadata": {},
   "outputs": [
    {
     "name": "stdout",
     "output_type": "stream",
     "text": [
      "1\n",
      "2\n",
      "3\n",
      "4\n",
      "5\n",
      "6\n"
     ]
    }
   ],
   "source": [
    "#int\n",
    "a=1\n",
    "b=2\n",
    "c=3\n",
    "d=4\n",
    "e=5\n",
    "f=6\n",
    "print(a)\n",
    "print(b)\n",
    "print(c)\n",
    "print(d)\n",
    "print(e)\n",
    "print(f)"
   ]
  },
  {
   "cell_type": "code",
   "execution_count": 3,
   "id": "292b3df6-7ab8-470b-bfc4-d7e4efbc06d0",
   "metadata": {},
   "outputs": [
    {
     "name": "stdout",
     "output_type": "stream",
     "text": [
      "1.1 2.2 3.3 4.4 5.5\n"
     ]
    }
   ],
   "source": [
    "#floor\n",
    "a=1.1\n",
    "b=2.2\n",
    "c=3.3\n",
    "d=4.4\n",
    "e=5.5\n",
    "print(a,b,c,d,e)"
   ]
  },
  {
   "cell_type": "code",
   "execution_count": 4,
   "id": "fba38ef3-e393-4701-a481-4a6913aec428",
   "metadata": {},
   "outputs": [
    {
     "name": "stdout",
     "output_type": "stream",
     "text": [
      "(1+2j) (2+3j) (3+4j)\n"
     ]
    }
   ],
   "source": [
    "#complex\n",
    "x=1+2j\n",
    "y=2+3j\n",
    "z=3+4j\n",
    "print(x,y,z)"
   ]
  }
 ],
 "metadata": {
  "kernelspec": {
   "display_name": "Python 3 (ipykernel)",
   "language": "python",
   "name": "python3"
  },
  "language_info": {
   "codemirror_mode": {
    "name": "ipython",
    "version": 3
   },
   "file_extension": ".py",
   "mimetype": "text/x-python",
   "name": "python",
   "nbconvert_exporter": "python",
   "pygments_lexer": "ipython3",
   "version": "3.11.7"
  }
 },
 "nbformat": 4,
 "nbformat_minor": 5
}
