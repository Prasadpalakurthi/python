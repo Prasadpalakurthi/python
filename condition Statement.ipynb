{
 "cells": [
  {
   "cell_type": "code",
   "execution_count": 30,
   "id": "4f470074-c134-47a2-bfe3-dd776171de50",
   "metadata": {},
   "outputs": [
    {
     "name": "stdout",
     "output_type": "stream",
     "text": [
      "     Tazz hotel       \n"
     ]
    },
    {
     "name": "stdin",
     "output_type": "stream",
     "text": [
      "enter your order Dal\n",
      "enter your order water\n"
     ]
    },
    {
     "name": "stdout",
     "output_type": "stream",
     "text": [
      "ordered item  is not available\n"
     ]
    }
   ],
   "source": [
    "print('     Tazz hotel       ')\n",
    "nonveg=['Chicken Biryani','chilly chicken','Chicken Wings']\n",
    "veg=['panner','Dal','mushroom']\n",
    "order=input('enter your order')\n",
    "order=input('enter your order')\n",
    "if order in nonveg:\n",
    "    print('Thanks For THE Order,your Order is preparing')\n",
    "elif order in veg  :\n",
    "    print('Thanks For THE order,your order is preparing')\n",
    "else:\n",
    "    print('ordered item  is not available')\n"
   ]
  },
  {
   "cell_type": "code",
   "execution_count": 31,
   "id": "0fe35186-3a7b-4028-afe9-a66db1554476",
   "metadata": {},
   "outputs": [
    {
     "name": "stdout",
     "output_type": "stream",
     "text": [
      "     Royal enfield\n"
     ]
    },
    {
     "name": "stdin",
     "output_type": "stream",
     "text": [
      "Enter Model Of The Bike Hunter\n"
     ]
    },
    {
     "name": "stdout",
     "output_type": "stream",
     "text": [
      "Its available,Thanks For Ordering\n"
     ]
    }
   ],
   "source": [
    "Brand=('     Royal enfield')\n",
    "print(Brand)\n",
    "Types=['Hunter','metero','Thunder','Interceptor']\n",
    "order=input('Enter Model Of The Bike')\n",
    "if order in Types:\n",
    "    print('Its available,Thanks For Ordering')\n",
    "else:\n",
    "    print('not available')\n",
    "    "
   ]
  },
  {
   "cell_type": "code",
   "execution_count": 34,
   "id": "ecd8c067-7223-4cdf-a6ed-5af7dfe03af5",
   "metadata": {},
   "outputs": [
    {
     "name": "stdout",
     "output_type": "stream",
     "text": [
      "Star Hotel\n"
     ]
    },
    {
     "name": "stdin",
     "output_type": "stream",
     "text": [
      "enter your order chilly chicken\n"
     ]
    },
    {
     "name": "stdout",
     "output_type": "stream",
     "text": [
      "Thanks For The Order,your order Is preparing\n"
     ]
    }
   ],
   "source": [
    "print('Star Hotel')\n",
    "nonveg=['Chicken Biryani','chilly chicken','Chicken Wings']\n",
    "veg=['panner','Dal','mushroom']\n",
    "order=input('enter your order')\n",
    "if order in nonveg:\n",
    "    print('Thanks For The Order,your order Is preparing')\n",
    "elif order in veg:\n",
    "    print('Thanks For The Order,your order Is preparing')\n",
    "else:\n",
    "    print('The Ordered Item Is Not Available')"
   ]
  },
  {
   "cell_type": "code",
   "execution_count": 40,
   "id": "c1a8804b-87f9-4846-a936-0c015ccf3a05",
   "metadata": {},
   "outputs": [
    {
     "name": "stdin",
     "output_type": "stream",
     "text": [
      "ENter The model you Want KTm\n"
     ]
    },
    {
     "name": "stdout",
     "output_type": "stream",
     "text": [
      "The Ordered MOdel Is Not available,Thanks For Visiting\n"
     ]
    }
   ],
   "source": [
    "Brand=('Honda')\n",
    "Type=['shine','unicorn','Hornet','creta','ciazz']\n",
    "order=input('ENter The model you Want')\n",
    "if order in Type:\n",
    "    print('The MOdel You Ordered Is available,Thanks  For The Order')  \n",
    "else:\n",
    "    print('The Ordered MOdel Is Not available,Thanks For Visiting')"
   ]
  },
  {
   "cell_type": "code",
   "execution_count": null,
   "id": "2a843431-fcd5-4ad6-8d51-3df9e79b41b4",
   "metadata": {},
   "outputs": [],
   "source": []
  }
 ],
 "metadata": {
  "kernelspec": {
   "display_name": "Python 3 (ipykernel)",
   "language": "python",
   "name": "python3"
  },
  "language_info": {
   "codemirror_mode": {
    "name": "ipython",
    "version": 3
   },
   "file_extension": ".py",
   "mimetype": "text/x-python",
   "name": "python",
   "nbconvert_exporter": "python",
   "pygments_lexer": "ipython3",
   "version": "3.11.7"
  }
 },
 "nbformat": 4,
 "nbformat_minor": 5
}
