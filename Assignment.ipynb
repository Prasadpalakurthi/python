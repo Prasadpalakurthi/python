{
 "cells": [
  {
   "cell_type": "code",
   "execution_count": 4,
   "id": "23e45bd6-ae79-4690-bc35-6b75161bc86e",
   "metadata": {},
   "outputs": [],
   "source": [
    "#voting system\n",
    "#to find biggest number among the 3\n",
    "#write a python program to check weather given number is prime or not\n",
    "#write a python program to find vowels in A string\n",
    "# write a python program to find consonants in a string\n",
    "#write a python prog to count the  no of occurance  of character in a string"
   ]
  },
  {
   "cell_type": "code",
   "execution_count": 4,
   "id": "3f90da94-f362-4337-8a10-0590e7709036",
   "metadata": {},
   "outputs": [
    {
     "name": "stdin",
     "output_type": "stream",
     "text": [
      "Enter your age:  22\n"
     ]
    },
    {
     "name": "stdout",
     "output_type": "stream",
     "text": [
      "eligible\n"
     ]
    }
   ],
   "source": [
    "age = int(input(\"Enter your age: \"))\n",
    "if age>= 18:\n",
    "    print(\"eligible\")\n",
    "else:\n",
    "    print(\"not eligible\")"
   ]
  },
  {
   "cell_type": "code",
   "execution_count": 17,
   "id": "7a700c68-9c30-4d2a-a37d-362b59399cd7",
   "metadata": {},
   "outputs": [
    {
     "name": "stdin",
     "output_type": "stream",
     "text": [
      "Enter Your age 22\n"
     ]
    },
    {
     "name": "stdout",
     "output_type": "stream",
     "text": [
      "eligible\n"
     ]
    }
   ],
   "source": [
    "age=int(input('Enter Your age'))\n",
    "if age>=18:\n",
    "    print(\"eligible\")\n",
    "else:\n",
    "    print(\"not eligible\")\n"
   ]
  },
  {
   "cell_type": "code",
   "execution_count": 36,
   "id": "f8005a78-a6b3-4a9c-a789-9e3797805d3f",
   "metadata": {},
   "outputs": [
    {
     "name": "stdin",
     "output_type": "stream",
     "text": [
      "enter number 25\n",
      "enter number 20\n",
      "enter number 7\n"
     ]
    },
    {
     "name": "stdout",
     "output_type": "stream",
     "text": [
      "x is Biggest\n"
     ]
    }
   ],
   "source": [
    "#to find biggest number among the 3\n",
    "x=int(input('enter number'))\n",
    "y=int(input('enter number'))\n",
    "z=int(input('enter number')) \n",
    "if x>=y and x>=z:\n",
    "    print('x is Biggest')\n",
    "elif y>=z and y>=x: \n",
    "    print('y is Biggest')\n",
    "else:\n",
    "    print('its greatest')\n",
    "    "
   ]
  },
  {
   "cell_type": "code",
   "execution_count": 3,
   "id": "9a9c408c-22c1-4012-9178-0c24f82fab07",
   "metadata": {},
   "outputs": [
    {
     "name": "stdin",
     "output_type": "stream",
     "text": [
      "enter the String prasad\n"
     ]
    },
    {
     "name": "stdout",
     "output_type": "stream",
     "text": [
      "a is a vowel\n",
      "a is a vowel\n"
     ]
    }
   ],
   "source": [
    "#vowels\n",
    "vowels='a','e','i','o','u'\n",
    "x=input('enter the String')\n",
    "for i in range(len(x)):\n",
    "    if x[i] in vowels:\n",
    "        print(f'{x[i]} is a vowel')"
   ]
  },
  {
   "cell_type": "code",
   "execution_count": 8,
   "id": "24cd6cfd-f438-4fd4-a086-7c385175bfc9",
   "metadata": {},
   "outputs": [
    {
     "name": "stdin",
     "output_type": "stream",
     "text": [
      "enter message prasad\n"
     ]
    },
    {
     "name": "stdout",
     "output_type": "stream",
     "text": [
      "p\n",
      "r\n",
      "s\n",
      "d\n"
     ]
    }
   ],
   "source": [
    "#consonants\n",
    "vowels='a','e','i','o','u'\n",
    "msg=input('enter message')\n",
    "for consonants in msg:\n",
    " if consonants not in vowels:\n",
    "    print(consonants)"
   ]
  },
  {
   "cell_type": "code",
   "execution_count": 5,
   "id": "0f9f9403-63ca-40c4-8bb2-6189445cf3c5",
   "metadata": {},
   "outputs": [
    {
     "name": "stdin",
     "output_type": "stream",
     "text": [
      "Enter a number: 22\n"
     ]
    },
    {
     "name": "stdout",
     "output_type": "stream",
     "text": [
      "prime\n"
     ]
    }
   ],
   "source": [
    "#prime numbers\n",
    "n=int(input(\"Enter a number:\"))\n",
    "for i in range(2,n):\n",
    "    if n+i==0:\n",
    "        print(\"not prime\")\n",
    "else:\n",
    "    print(\"prime\")\n",
    "    "
   ]
  },
  {
   "cell_type": "code",
   "execution_count": 5,
   "id": "702cb785-ae06-49e2-9152-ba0503c417e9",
   "metadata": {},
   "outputs": [
    {
     "name": "stdin",
     "output_type": "stream",
     "text": [
      "Enter a string: This is prasad\n"
     ]
    },
    {
     "name": "stdout",
     "output_type": "stream",
     "text": [
      "3\n"
     ]
    }
   ],
   "source": [
    "#Occurance\n",
    "sentence=input(\"Enter a string:\")\n",
    "count=sentence.count('s')\n",
    "print(count)"
   ]
  },
  {
   "cell_type": "code",
   "execution_count": null,
   "id": "da1c3612-136d-45a5-bbd4-040668129124",
   "metadata": {},
   "outputs": [],
   "source": []
  }
 ],
 "metadata": {
  "kernelspec": {
   "display_name": "Python 3 (ipykernel)",
   "language": "python",
   "name": "python3"
  },
  "language_info": {
   "codemirror_mode": {
    "name": "ipython",
    "version": 3
   },
   "file_extension": ".py",
   "mimetype": "text/x-python",
   "name": "python",
   "nbconvert_exporter": "python",
   "pygments_lexer": "ipython3",
   "version": "3.11.7"
  }
 },
 "nbformat": 4,
 "nbformat_minor": 5
}
