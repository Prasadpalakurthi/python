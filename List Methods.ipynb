{
 "cells": [
  {
   "cell_type": "code",
   "execution_count": 18,
   "id": "be7b26d5-6bcb-4781-ab87-3bce4e6e28a1",
   "metadata": {},
   "outputs": [
    {
     "name": "stdout",
     "output_type": "stream",
     "text": [
      "3\n",
      "blueberry\n",
      "java\n",
      "apple\n",
      "33\n",
      "         \n",
      "5\n",
      "blueberry\n",
      "java\n",
      "apple\n",
      "potato\n"
     ]
    }
   ],
   "source": [
    "#List\n",
    "\n",
    "list=[1,2,3,4,5,6]\n",
    "list1=['apple','banana','grapes','strawberry','blueberry']\n",
    "list2=[\"c\",\"c++\",\"python\",\"java\",\"AWS\",\"cybersecurity\"]\n",
    "Mixed_list1=[1,'c','apple']\n",
    "Mixed_list2=[22,33,'c++','green apple','potato']\n",
    "#positive Index\n",
    "print(list[2])\n",
    "print(list1[4])\n",
    "print(list2[3])\n",
    "print(Mixed_list1[2])\n",
    "print(Mixed_list2[1])\n",
    "\n",
    "\n",
    "\n",
    "print('         ')\n",
    "#negative Index\n",
    "print(list[-2])\n",
    "print(list1[-1])\n",
    "print(list2[-3])\n",
    "print(Mixed_list1[-1])\n",
    "print(Mixed_list2[-1])"
   ]
  },
  {
   "cell_type": "code",
   "execution_count": 49,
   "id": "ec63805e-d4b8-4254-8eb2-fb2583191cf4",
   "metadata": {},
   "outputs": [
    {
     "name": "stdout",
     "output_type": "stream",
     "text": [
      "(1, 2, 3, 4, 5, 6)\n",
      "(0.1, 0.2)\n",
      "['p', 'r', 'a', 's', 'a', 'd'] ['a', 's', 'a']\n",
      "['Grapes', 'Banana', 'strawberry', 'custardApple', 'raspberry']\n",
      "['apple', 'Grapes', 'Banana', 'strawberry', 'custardApple'] ['Grapes', 'Banana', 'strawberry', 'custardApple', 'raspberry']\n"
     ]
    }
   ],
   "source": [
    "#slicing\n",
    "a=1,2,3,4,5,6    #int values\n",
    "b=0.1,0.2,0.3,0.4,0.5,0.6,0.7     #Floor values\n",
    "list=['p','r','a','s','a','d']\n",
    "fruits=['apple','Grapes','Banana','strawberry','custardApple','raspberry','blueberry']\n",
    "print(a[0:6])\n",
    "print(b[:2])\n",
    "print(list[0:6],list[2:5])\n",
    "print(fruits[1:6])\n",
    "print(fruits[0:-2],fruits[1:-1])"
   ]
  },
  {
   "cell_type": "code",
   "execution_count": 80,
   "id": "cf871f3e-c690-4519-8d77-fcdfc03f50b4",
   "metadata": {},
   "outputs": [
    {
     "name": "stdout",
     "output_type": "stream",
     "text": [
      "[1, 2, 3, 4, 5, 6, 7, 8, 9, 10] [7, 8, 9, 10, 1, 2, 3, 4, 5, 6]\n",
      "['apple', 'banana', 'grapes', 'strawberry', 'blueberry', 'c', 'c++', 'python', 'java', 'AWS', 'cybersecurity']\n",
      "[1, 'c', 'apple', 22, 33, 'c++', 'green apple', 'potato']\n",
      "[1, 2, 3, 4, 5, 6, 1, 'c', 'apple']\n",
      "[22, 33, 'c++', 'green apple', 'potato', 7, 8, 9, 10]\n",
      "               \n",
      "[1, 2, 3, 4, 5, 6, 1, 2, 3, 4, 5, 6]\n",
      "[[1, 2, 3, 4, 5, 6, 7, 8, 9, 10], [1, 2, 3, 4, 5, 6, 7, 8, 9, 10], [1, 2, 3, 4, 5, 6, 7, 8, 9, 10], [1, 2, 3, 4, 5, 6, 7, 8, 9, 10]]\n",
      "[22, 33, 'c++', 'green apple', 'potato', 22, 33, 'c++', 'green apple', 'potato']\n",
      "[2, 2]\n",
      "['c', 'c++', 'python', 'c', 'c++', 'python']\n"
     ]
    }
   ],
   "source": [
    "#List operations\n",
    "list1=[1,2,3,4,5,6]\n",
    "list2=[7,8,9,10]\n",
    "list3=['apple','banana','grapes','strawberry','blueberry']\n",
    "list4=[\"c\",\"c++\",\"python\",\"java\",\"AWS\",\"cybersecurity\"]\n",
    "Mixed_list1=[1,'c','apple']\n",
    "Mixed_list2=[22,33,'c++','green apple','potato']\n",
    "\n",
    "#concatenation\n",
    "print(list1+list2,list2+list1)\n",
    "print(list3+list4)\n",
    "print(Mixed_list1+Mixed_list2)\n",
    "print(list1+Mixed_list1)\n",
    "print(Mixed_list2+list2)\n",
    "\n",
    "print('               ')\n",
    "#repetation\n",
    "print(list1*2)\n",
    "print([list1+list2]*4)\n",
    "print(Mixed_list2*2)\n",
    "print(list1[1:2]*2)\n",
    "print(list4[:-3]*2)"
   ]
  },
  {
   "cell_type": "code",
   "execution_count": 84,
   "id": "006f8daa-67b7-45df-9762-7012f882b11b",
   "metadata": {},
   "outputs": [
    {
     "name": "stdout",
     "output_type": "stream",
     "text": [
      "[1, 2, 3, 4, 5, 6, 7, 8]\n",
      "['prasad', 'veerendra', 'sampath', 'laxmi']\n",
      "['cucumber', 'potato', 'beetroot', 'carrot', 'onions']\n",
      "['grapes', 'apple', 'Banana', 'blueberry', 'raspberry', 'Dragon fruit']\n",
      "['c', 'c++', 'java', 'pyhon', 'Data Analyst']\n"
     ]
    }
   ],
   "source": [
    "#List Methods\n",
    "#append\n",
    "a=[1,2,3,4,5,6,7]\n",
    "names=['prasad','veerendra','sampath']\n",
    "vegis=['cucumber','potato','beetroot','carrot',]\n",
    "fruits=['grapes','apple','Banana','blueberry','raspberry']\n",
    "strings=['c','c++','java','pyhon']\n",
    "a.append(8)\n",
    "names.append('laxmi')\n",
    "vegis.append('onions')\n",
    "fruits.append('Dragon fruit')\n",
    "strings.append('Data Analyst')\n",
    "print(a)\n",
    "print(names)\n",
    "print(vegis)\n",
    "print(fruits)\n",
    "print(strings)"
   ]
  },
  {
   "cell_type": "code",
   "execution_count": 142,
   "id": "2658cd1e-800a-4ded-ba7c-35006eaab1f6",
   "metadata": {},
   "outputs": [
    {
     "name": "stdout",
     "output_type": "stream",
     "text": [
      "[1, 2, 3, 4, 5, 6, 7, 8]\n",
      "['prasad', 'veerendra', 'sampath', 'laxmi', 'hari']\n",
      "['dragon fruits', 'grapes', 'apple', 'kiwi']\n",
      "['java', 'python', 'c', 'c++', 'Data analyst', 'Data science']\n",
      "['wrong', 'Allensolly', 'rare rabbit']\n"
     ]
    }
   ],
   "source": [
    "#extend\n",
    "numbers=[1,2,3,4,5]\n",
    "names=['prasad','veerendra','sampath']\n",
    "fruits=['dragon fruits','grapes','apple']\n",
    "courses=['java','python','c','c++']\n",
    "Brands=['wrong','Allensolly']\n",
    "more_numbers=[6,7,8]\n",
    "more_names=['laxmi','hari']\n",
    "more_fruits=['kiwi']\n",
    "more_courses=['Data analyst','Data science']\n",
    "more_Brands=['rare rabbit']\n",
    "numbers.extend(more_numbers)\n",
    "names.extend(more_names)\n",
    "fruits.extend(more_fruits)\n",
    "courses.extend(more_courses)\n",
    "Brands.extend(more_Brands)\n",
    "print(numbers)\n",
    "print(names)\n",
    "print(fruits)\n",
    "print(courses)\n",
    "print(Brands)"
   ]
  },
  {
   "cell_type": "code",
   "execution_count": 149,
   "id": "85eb5df6-61a4-47c6-9607-a181c7c32829",
   "metadata": {},
   "outputs": [
    {
     "name": "stdout",
     "output_type": "stream",
     "text": [
      "[1, 2, 3, 4, 5, 6]\n",
      "['prasad', 'veerendra', 'sampath', 'laxmi']\n",
      "['dragon fruits', 'grapes', 'apple', 'kiwi']\n",
      "['java', 'python', 'c', 'c++', 'Data Analyst']\n",
      "['wrong', 'Allensolly', 'Rare Rabbit']\n"
     ]
    }
   ],
   "source": [
    "#insert\n",
    "numbers=[1,2,3,4,5]\n",
    "names=['prasad','veerendra','sampath']\n",
    "fruits=['dragon fruits','grapes','apple']\n",
    "courses=['java','python','c','c++']\n",
    "Brands=['wrong','Allensolly']\n",
    "numbers.insert(5,6)\n",
    "names.insert(3,'laxmi')\n",
    "fruits.insert(4,'kiwi')\n",
    "courses.insert(4,'Data Analyst')\n",
    "Brands.insert(2,'Rare Rabbit')\n",
    "print(numbers)\n",
    "print(names)\n",
    "print(fruits)\n",
    "print(courses)\n",
    "print(Brands)"
   ]
  },
  {
   "cell_type": "code",
   "execution_count": 158,
   "id": "bad37365-37a6-4285-98e3-406c8564072c",
   "metadata": {},
   "outputs": [
    {
     "name": "stdout",
     "output_type": "stream",
     "text": [
      "[1, 2, 3, 4, 5]\n",
      "['prasad', 'veerendra', 'sampath', 'Laxmi']\n",
      "['dragon fruits', 'apple']\n",
      "['java', 'python', 'c']\n",
      "['wrong', 'Allensolly']\n"
     ]
    }
   ],
   "source": [
    "#remove\n",
    "numbers=[1,2,5,3,4,5]\n",
    "names=['prasad','veerendra','sampath','Laxmi','hari']\n",
    "fruits=['dragon fruits','grapes','apple']\n",
    "courses=['java','python','c','c++']\n",
    "Brands=['wrong','Allensolly','rare rabbit']\n",
    "numbers.remove(5)\n",
    "names.remove('hari')\n",
    "fruits.remove('grapes')\n",
    "courses.remove('c++')\n",
    "Brands.remove('rare rabbit')\n",
    "print(numbers)\n",
    "print(names)\n",
    "print(fruits)\n",
    "print(courses)\n",
    "print(Brands)"
   ]
  },
  {
   "cell_type": "code",
   "execution_count": 168,
   "id": "c21f78f2-544a-481a-812e-f924d30e88f8",
   "metadata": {},
   "outputs": [
    {
     "name": "stdout",
     "output_type": "stream",
     "text": [
      "5\n",
      "Laxmi\n",
      "grapes\n",
      "c++\n",
      "rare rabbit\n"
     ]
    }
   ],
   "source": [
    "#pop\n",
    "numbers=[1,2,3,4,5]\n",
    "names=['prasad','veerendra','sampath','Laxmi','hari']\n",
    "fruits=['dragon fruits','grapes','apple']\n",
    "courses=['java','python','c','c++']\n",
    "Brands=['wrong','Allensolly','rare rabbit']\n",
    "poped_element1=numbers.pop(-1)\n",
    "poped_element2=names.pop(-2)\n",
    "poped_element3=fruits.pop(1)\n",
    "poped_element4=courses.pop(-1)\n",
    "poped_element5=Brands.pop(-1)\n",
    "print(poped_element1)\n",
    "print(poped_element2)\n",
    "print(poped_element3)\n",
    "print(poped_element4)\n",
    "print(poped_element5)"
   ]
  },
  {
   "cell_type": "code",
   "execution_count": 180,
   "id": "265ef1f6-ab57-4ccc-b3e3-32d5b91c0a34",
   "metadata": {},
   "outputs": [
    {
     "name": "stdout",
     "output_type": "stream",
     "text": [
      "4\n",
      "1\n",
      "1\n",
      "2\n",
      "2\n"
     ]
    }
   ],
   "source": [
    "#Index\n",
    "numbers=[1,2,3,4,5]\n",
    "names=['prasad','veerendra','sampath','Laxmi','hari']\n",
    "fruits=['dragon fruits','grapes','apple']\n",
    "courses=['java','python','c','c++']\n",
    "Brands=['wrong','Allensolly','rare rabbit']\n",
    "index1=numbers.index(5)\n",
    "index2=names.index('veerendra')\n",
    "index3=fruits.index('grapes')\n",
    "index4=courses.index('c')\n",
    "index5=Brands.index('rare rabbit')\n",
    "print(index1)\n",
    "print(index2)\n",
    "print(index3)\n",
    "print(index4)\n",
    "print(index5)\n",
    "\n",
    "\n",
    "\n"
   ]
  },
  {
   "cell_type": "code",
   "execution_count": 183,
   "id": "a5ba303e-4b8d-4449-9fb9-6c6b11e3ebe1",
   "metadata": {},
   "outputs": [
    {
     "name": "stdout",
     "output_type": "stream",
     "text": [
      "3\n",
      "4\n",
      "2\n",
      "4\n",
      "2\n"
     ]
    }
   ],
   "source": [
    "#count\n",
    "numbers=[1,2,3,2,2,4,5]\n",
    "names=['prasad','veerendra','sampath','Laxmi','hari','prasad','prasad','prasad']\n",
    "fruits=['dragon fruits','grapes','apple','grapes']\n",
    "courses=['java','python','c','c++','c','c','c']\n",
    "Brands=['wrong','Allensolly','rare rabbit','wrong']\n",
    "count1=numbers.count(2)\n",
    "count2=names.count('prasad')\n",
    "count3=fruits.count('grapes')\n",
    "count4=courses.count('c')\n",
    "count5=Brands.count('wrong')\n",
    "print(count1)\n",
    "print(count2)\n",
    "print(count3)\n",
    "print(count4)\n",
    "print(count5)"
   ]
  },
  {
   "cell_type": "code",
   "execution_count": 185,
   "id": "2c247bff-b68e-45cd-b3f1-fd8af4bc8845",
   "metadata": {},
   "outputs": [
    {
     "name": "stdout",
     "output_type": "stream",
     "text": [
      "[1, 2, 2, 2, 3, 4, 5]\n",
      "['Laxmi', 'hari', 'prasad', 'sampath', 'veerendra']\n",
      "['apple', 'dragon fruits', 'grapes', 'grapes']\n",
      "['C', 'c', 'c', 'c', 'c++', 'java', 'python']\n",
      "['Allensolly', 'WRong', 'rare rabbit', 'wrong']\n"
     ]
    }
   ],
   "source": [
    "#sort\n",
    "numbers=[1,2,3,2,2,4,5]\n",
    "names=['prasad','veerendra','sampath','Laxmi','hari']\n",
    "fruits=['dragon fruits','grapes','apple','grapes']\n",
    "courses=['java','python','c','c++','c','c','C']\n",
    "Brands=['wrong','Allensolly','rare rabbit','WRong']\n",
    "numbers.sort()\n",
    "names.sort()\n",
    "fruits.sort()\n",
    "courses.sort()\n",
    "Brands.sort()\n",
    "print(numbers)\n",
    "print(names)\n",
    "print(fruits)\n",
    "print(courses)\n",
    "print(Brands)\n",
    "\n",
    "\n",
    "\n",
    "print(\"-------------\")\n",
    "#remove\n",
    "numbers.reverse()\n",
    "names.reverse()\n",
    "fruits.reverse()\n",
    "courses.reverse()\n",
    "Brands.reverse()\n",
    "print(numbers)\n",
    "print(names)\n",
    "print(fruits)\n",
    "print(courses)\n",
    "print(Brands)"
   ]
  },
  {
   "cell_type": "code",
   "execution_count": null,
   "id": "73e6d3c8-02ce-4730-b80f-dfc992152241",
   "metadata": {},
   "outputs": [],
   "source": []
  }
 ],
 "metadata": {
  "kernelspec": {
   "display_name": "Python 3 (ipykernel)",
   "language": "python",
   "name": "python3"
  },
  "language_info": {
   "codemirror_mode": {
    "name": "ipython",
    "version": 3
   },
   "file_extension": ".py",
   "mimetype": "text/x-python",
   "name": "python",
   "nbconvert_exporter": "python",
   "pygments_lexer": "ipython3",
   "version": "3.11.7"
  }
 },
 "nbformat": 4,
 "nbformat_minor": 5
}
