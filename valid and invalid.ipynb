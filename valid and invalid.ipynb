{
 "cells": [
  {
   "cell_type": "code",
   "execution_count": 11,
   "id": "3f22763c-f480-4d8d-934f-89f84caba07c",
   "metadata": {},
   "outputs": [
    {
     "name": "stdout",
     "output_type": "stream",
     "text": [
      "21\n",
      "22\n",
      "prasad\n",
      "school\n",
      "INTERMIDATE\n",
      "BTECH\n",
      "(1+2j)\n",
      "(2+3j)\n",
      "(3+4j)\n"
     ]
    }
   ],
   "source": [
    "#valid variables\n",
    "a=21\n",
    "a_b=22\n",
    "abc=\"prasad\"\n",
    "_a=\"school\"\n",
    "_b=\"INTERMIDATE\"\n",
    "_c=\"BTECH\"\n",
    "x=1+2j\n",
    "y=2+3j\n",
    "z=3+4j\n",
    "print(a,)\n",
    "print(a_b)\n",
    "print(abc)\n",
    "print(_a)\n",
    "print(_b)\n",
    "print(_c)\n",
    "print(x)\n",
    "print(y)\n",
    "print(z)\n"
   ]
  },
  {
   "cell_type": "code",
   "execution_count": 6,
   "id": "da6f9f58-3301-4f07-91c8-70fa7c71b61d",
   "metadata": {},
   "outputs": [
    {
     "ename": "SyntaxError",
     "evalue": "invalid syntax (3413269445.py, line 3)",
     "output_type": "error",
     "traceback": [
      "\u001b[1;36m  Cell \u001b[1;32mIn[6], line 3\u001b[1;36m\u001b[0m\n\u001b[1;33m    else =\"KW\"\u001b[0m\n\u001b[1;37m    ^\u001b[0m\n\u001b[1;31mSyntaxError\u001b[0m\u001b[1;31m:\u001b[0m invalid syntax\n"
     ]
    }
   ],
   "source": [
    "#invalid Variables\n",
    "2print(\"1+2\")\n",
    "@a=valid\n",
    "else =\"KW\"\n",
    "\n",
    "\n",
    "\n"
   ]
  },
  {
   "cell_type": "code",
   "execution_count": null,
   "id": "00b23202-a3f9-4c9b-9159-6f0265ed0ea5",
   "metadata": {},
   "outputs": [],
   "source": []
  }
 ],
 "metadata": {
  "kernelspec": {
   "display_name": "Python 3 (ipykernel)",
   "language": "python",
   "name": "python3"
  },
  "language_info": {
   "codemirror_mode": {
    "name": "ipython",
    "version": 3
   },
   "file_extension": ".py",
   "mimetype": "text/x-python",
   "name": "python",
   "nbconvert_exporter": "python",
   "pygments_lexer": "ipython3",
   "version": "3.11.7"
  }
 },
 "nbformat": 4,
 "nbformat_minor": 5
}
